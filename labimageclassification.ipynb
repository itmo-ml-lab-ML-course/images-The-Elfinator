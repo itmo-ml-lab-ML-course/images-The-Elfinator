{
 "metadata": {
  "kernelspec": {
   "language": "python",
   "display_name": "Python 3",
   "name": "python3"
  },
  "language_info": {
   "name": "python",
   "version": "3.10.12",
   "mimetype": "text/x-python",
   "codemirror_mode": {
    "name": "ipython",
    "version": 3
   },
   "pygments_lexer": "ipython3",
   "nbconvert_exporter": "python",
   "file_extension": ".py"
  },
  "kaggle": {
   "accelerator": "none",
   "dataSources": [
    {
     "sourceId": 7391178,
     "sourceType": "datasetVersion",
     "datasetId": 4296681
    }
   ],
   "dockerImageVersionId": 30635,
   "isInternetEnabled": true,
   "language": "python",
   "sourceType": "notebook",
   "isGpuEnabled": false
  }
 },
 "nbformat_minor": 4,
 "nbformat": 4,
 "cells": [
  {
   "cell_type": "markdown",
   "source": [
    "# Импорт и загрузка нужных библиотек"
   ],
   "metadata": {
    "collapsed": false
   }
  },
  {
   "cell_type": "code",
   "source": [
    "import torch\n",
    "import torchvision\n",
    "import numpy as np\n",
    "import matplotlib.pyplot as plt\n",
    "import torch.nn as nn\n",
    "import torch.optim as optim\n",
    "import torch.nn.functional as F\n",
    "from torchvision.datasets import CIFAR10\n",
    "import torchvision.transforms as transforms\n",
    "from torchvision.utils import make_grid\n",
    "from torch.utils.data.dataloader import DataLoader\n",
    "from torch.utils.data import random_split\n",
    "# from transformers import AutoProcessor, Blip2ForConditionalGeneration\n",
    "\n",
    "%matplotlib inline"
   ],
   "metadata": {
    "execution": {
     "iopub.status.busy": "2024-01-15T20:37:36.967071Z",
     "iopub.execute_input": "2024-01-15T20:37:36.967576Z",
     "iopub.status.idle": "2024-01-15T20:37:44.691353Z",
     "shell.execute_reply.started": "2024-01-15T20:37:36.967533Z",
     "shell.execute_reply": "2024-01-15T20:37:44.690039Z"
    },
    "trusted": true,
    "ExecuteTime": {
     "end_time": "2024-03-19T17:08:54.274453600Z",
     "start_time": "2024-03-19T17:08:50.415438500Z"
    }
   },
   "execution_count": 1,
   "outputs": []
  },
  {
   "cell_type": "markdown",
   "source": [
    "# Загрузка датасета"
   ],
   "metadata": {}
  },
  {
   "cell_type": "code",
   "source": [
    "transform = transforms.Compose([transforms.ToTensor(),\n",
    "                                 transforms.Normalize((0.5, 0.5, 0.5), (0.5, 0.5, 0.5))])\n",
    "batch_size = 4\n",
    "trainset = torchvision.datasets.CIFAR10(root='./data', train=True,\n",
    "                                        download=True, transform=transform)\n",
    "trainloader = torch.utils.data.DataLoader(trainset, batch_size=batch_size,\n",
    "                                          shuffle=True, num_workers=2)\n",
    "\n",
    "testset = torchvision.datasets.CIFAR10(root='./data', train=False,\n",
    "                                       download=True, transform=transform)\n",
    "testloader = torch.utils.data.DataLoader(testset, batch_size=batch_size,\n",
    "                                         shuffle=False, num_workers=2)\n",
    "\n",
    "classes = ('plane', 'car', 'bird', 'cat',\n",
    "           'deer', 'dog', 'frog', 'horse', 'ship', 'truck')"
   ],
   "metadata": {
    "execution": {
     "iopub.status.busy": "2024-01-15T20:37:48.744561Z",
     "iopub.execute_input": "2024-01-15T20:37:48.745411Z",
     "iopub.status.idle": "2024-01-15T20:37:50.970435Z",
     "shell.execute_reply.started": "2024-01-15T20:37:48.745361Z",
     "shell.execute_reply": "2024-01-15T20:37:50.969152Z"
    },
    "trusted": true,
    "ExecuteTime": {
     "end_time": "2024-03-19T17:10:16.955232200Z",
     "start_time": "2024-03-19T17:08:54.285187500Z"
    }
   },
   "execution_count": 2,
   "outputs": [
    {
     "name": "stdout",
     "output_type": "stream",
     "text": [
      "Downloading https://www.cs.toronto.edu/~kriz/cifar-10-python.tar.gz to ./data\\cifar-10-python.tar.gz\n"
     ]
    },
    {
     "name": "stderr",
     "output_type": "stream",
     "text": [
      "100.0%\n"
     ]
    },
    {
     "name": "stdout",
     "output_type": "stream",
     "text": [
      "Extracting ./data\\cifar-10-python.tar.gz to ./data\n",
      "Files already downloaded and verified\n"
     ]
    }
   ]
  },
  {
   "cell_type": "markdown",
   "source": [
    "## Визуализация данных"
   ],
   "metadata": {}
  },
  {
   "cell_type": "code",
   "source": [
    "def imshow(img):\n",
    "    img = img / 2 + 0.5   \n",
    "    npimg = img.numpy()\n",
    "    plt.imshow(np.transpose(npimg, (1, 2, 0)))\n",
    "    plt.show()\n",
    "\n",
    "dataiter = iter(trainloader)\n",
    "images, labels = next(dataiter)\n",
    "imshow(make_grid(images))\n",
    "print(' '.join(f'{classes[labels[j]]:5s}' for j in range(batch_size)))"
   ],
   "metadata": {
    "execution": {
     "iopub.status.busy": "2024-01-15T20:37:53.346883Z",
     "iopub.execute_input": "2024-01-15T20:37:53.347585Z",
     "iopub.status.idle": "2024-01-15T20:37:53.784577Z",
     "shell.execute_reply.started": "2024-01-15T20:37:53.347529Z",
     "shell.execute_reply": "2024-01-15T20:37:53.783135Z"
    },
    "trusted": true,
    "ExecuteTime": {
     "end_time": "2024-03-19T17:10:25.714282600Z",
     "start_time": "2024-03-19T17:10:16.965573300Z"
    }
   },
   "execution_count": 3,
   "outputs": [
    {
     "data": {
      "text/plain": "<Figure size 640x480 with 1 Axes>",
      "image/png": "[encoded data removed]"
     },
     "metadata": {},
     "output_type": "display_data"
    },
    {
     "name": "stdout",
     "output_type": "stream",
     "text": [
      "car   car   truck truck\n"
     ]
    }
   ]
  },
  {
   "cell_type": "markdown",
   "source": [
    "# CNN"
   ],
   "metadata": {}
  },
  {
   "cell_type": "code",
   "source": [
    "class Model(nn.Module):\n",
    "    def __init__(self):\n",
    "        super().__init__()\n",
    "        self.conv1 = nn.Conv2d(3, 6, 5)\n",
    "        self.pool = nn.MaxPool2d(2, 2)\n",
    "        self.conv2 = nn.Conv2d(6, 16, 5)\n",
    "        self.fc1 = nn.Linear(16 * 5 * 5, 120)\n",
    "        self.fc2 = nn.Linear(120, 84)\n",
    "        self.fc3 = nn.Linear(84, 10)\n",
    "\n",
    "    def forward(self, x):\n",
    "        x = self.pool(F.relu(self.conv1(x)))\n",
    "        x = self.pool(F.relu(self.conv2(x)))\n",
    "        x = torch.flatten(x, 1) \n",
    "        x = F.relu(self.fc1(x))\n",
    "        x = F.relu(self.fc2(x))\n",
    "        x = self.fc3(x)\n",
    "        return x\n",
    "\n",
    "\n",
    "model = Model()"
   ],
   "metadata": {
    "execution": {
     "iopub.status.busy": "2024-01-15T20:37:56.719378Z",
     "iopub.execute_input": "2024-01-15T20:37:56.719829Z",
     "iopub.status.idle": "2024-01-15T20:37:56.737572Z",
     "shell.execute_reply.started": "2024-01-15T20:37:56.719782Z",
     "shell.execute_reply": "2024-01-15T20:37:56.736041Z"
    },
    "trusted": true,
    "ExecuteTime": {
     "end_time": "2024-03-19T17:10:25.860274200Z",
     "start_time": "2024-03-19T17:10:25.714282600Z"
    }
   },
   "execution_count": 4,
   "outputs": []
  },
  {
   "cell_type": "markdown",
   "source": [
    "## Обучение"
   ],
   "metadata": {}
  },
  {
   "cell_type": "code",
   "source": [
    "def training(count_epoch, criterion, optimizer):\n",
    "    for epoch in range(count_epoch):\n",
    "        running_loss = 0.0\n",
    "        for i, data in enumerate(trainloader, 0):\n",
    "\n",
    "            inputs, labels = data\n",
    "\n",
    "            outputs = model(inputs)\n",
    "            loss = criterion(outputs, labels)\n",
    "\n",
    "            optimizer.zero_grad()\n",
    "            loss.backward()\n",
    "            optimizer.step()\n",
    "\n",
    "            running_loss += loss.item()\n",
    "            if i % 2000 == 1999:    \n",
    "                print(f'[{epoch + 1}, {i + 1:5d}] loss: {running_loss / 2000:.3f}')\n",
    "                running_loss = 0.0\n",
    "\n",
    "    print('Training Completed')\n",
    "    return model"
   ],
   "metadata": {
    "execution": {
     "iopub.status.busy": "2024-01-15T20:44:09.087750Z",
     "iopub.execute_input": "2024-01-15T20:44:09.088297Z",
     "iopub.status.idle": "2024-01-15T20:44:09.098147Z",
     "shell.execute_reply.started": "2024-01-15T20:44:09.088251Z",
     "shell.execute_reply": "2024-01-15T20:44:09.096604Z"
    },
    "trusted": true,
    "ExecuteTime": {
     "end_time": "2024-03-19T17:10:25.860274200Z",
     "start_time": "2024-03-19T17:10:25.745515400Z"
    }
   },
   "execution_count": 5,
   "outputs": []
  },
  {
   "cell_type": "markdown",
   "source": [
    "## Тестирование"
   ],
   "metadata": {}
  },
  {
   "cell_type": "code",
   "source": [
    "def testing(model):\n",
    "    dataiter = iter(testloader)\n",
    "    images, labels = next(dataiter)\n",
    "\n",
    "    imshow(torchvision.utils.make_grid(images))\n",
    "    print('Target: ', ' '.join(f'{classes[labels[j]]:5s}' for j in range(4)))\n",
    "\n",
    "    outputs = model(images)\n",
    "    _, predicted = torch.max(outputs, 1)\n",
    "\n",
    "    print('Predicted: ', ' '.join(f'{classes[predicted[j]]:5s}' for j in range(4)))\n",
    "\n",
    "\n",
    "    correct_pred = {classname: 0 for classname in classes}\n",
    "    total_pred = {classname: 0 for classname in classes}\n",
    "\n",
    "    with torch.no_grad():\n",
    "        for data in testloader:\n",
    "            images, labels = data\n",
    "            outputs = model(images)\n",
    "            _, predictions = torch.max(outputs, 1)\n",
    "            for label, prediction in zip(labels, predictions):\n",
    "                if label == prediction:\n",
    "                    correct_pred[classes[label]] += 1\n",
    "                total_pred[classes[label]] += 1\n",
    "\n",
    "\n",
    "\n",
    "    for classname, correct_count in correct_pred.items():\n",
    "        accuracy = 100 * float(correct_count) / total_pred[classname]\n",
    "        print(f'Accuracy for the class: {classname} is {accuracy} %')"
   ],
   "metadata": {
    "execution": {
     "iopub.status.busy": "2024-01-15T20:38:12.842523Z",
     "iopub.execute_input": "2024-01-15T20:38:12.843019Z",
     "iopub.status.idle": "2024-01-15T20:38:12.858197Z",
     "shell.execute_reply.started": "2024-01-15T20:38:12.842979Z",
     "shell.execute_reply": "2024-01-15T20:38:12.856742Z"
    },
    "trusted": true,
    "ExecuteTime": {
     "end_time": "2024-03-19T17:10:25.860274200Z",
     "start_time": "2024-03-19T17:10:25.797767700Z"
    }
   },
   "execution_count": 6,
   "outputs": []
  },
  {
   "cell_type": "markdown",
   "source": [
    "## Сравнение сетей с разными параметрами"
   ],
   "metadata": {}
  },
  {
   "cell_type": "markdown",
   "source": [
    "- сеть № 1"
   ],
   "metadata": {}
  },
  {
   "cell_type": "code",
   "source": [
    "model = Model()\n",
    "optimizer=optim.Adam(model.parameters(), lr=0.0001)\n",
    "trained_model = training(4, nn.CrossEntropyLoss(), optimizer)\n",
    "testing(trained_model)"
   ],
   "metadata": {
    "execution": {
     "iopub.status.busy": "2024-01-15T20:44:45.467037Z",
     "iopub.execute_input": "2024-01-15T20:44:45.467497Z",
     "iopub.status.idle": "2024-01-15T20:50:22.164244Z",
     "shell.execute_reply.started": "2024-01-15T20:44:45.467459Z",
     "shell.execute_reply": "2024-01-15T20:50:22.162917Z"
    },
    "trusted": true,
    "ExecuteTime": {
     "end_time": "2024-03-19T17:17:57.643395500Z",
     "start_time": "2024-03-19T17:10:25.813397Z"
    }
   },
   "execution_count": 7,
   "outputs": [
    {
     "name": "stdout",
     "output_type": "stream",
     "text": [
      "[1,  2000] loss: 2.067\n",
      "[1,  4000] loss: 1.879\n",
      "[1,  6000] loss: 1.752\n",
      "[1,  8000] loss: 1.685\n",
      "[1, 10000] loss: 1.645\n",
      "[1, 12000] loss: 1.606\n",
      "[2,  2000] loss: 1.562\n",
      "[2,  4000] loss: 1.539\n",
      "[2,  6000] loss: 1.544\n",
      "[2,  8000] loss: 1.509\n",
      "[2, 10000] loss: 1.490\n",
      "[2, 12000] loss: 1.478\n",
      "[3,  2000] loss: 1.439\n",
      "[3,  4000] loss: 1.446\n",
      "[3,  6000] loss: 1.439\n",
      "[3,  8000] loss: 1.403\n",
      "[3, 10000] loss: 1.413\n",
      "[3, 12000] loss: 1.408\n",
      "[4,  2000] loss: 1.359\n",
      "[4,  4000] loss: 1.364\n",
      "[4,  6000] loss: 1.344\n",
      "[4,  8000] loss: 1.363\n",
      "[4, 10000] loss: 1.332\n",
      "[4, 12000] loss: 1.337\n",
      "Training Completed\n"
     ]
    },
    {
     "data": {
      "text/plain": "<Figure size 640x480 with 1 Axes>",
      "image/png": "[encoded data removed]"
     },
     "metadata": {},
     "output_type": "display_data"
    },
    {
     "name": "stdout",
     "output_type": "stream",
     "text": [
      "Target:  cat   ship  ship  plane\n",
      "Predicted:  cat   car   car   ship \n",
      "Accuracy for the class: plane is 62.5 %\n",
      "Accuracy for the class: car is 61.7 %\n",
      "Accuracy for the class: bird is 29.3 %\n",
      "Accuracy for the class: cat is 21.6 %\n",
      "Accuracy for the class: deer is 42.5 %\n",
      "Accuracy for the class: dog is 52.8 %\n",
      "Accuracy for the class: frog is 77.4 %\n",
      "Accuracy for the class: horse is 57.0 %\n",
      "Accuracy for the class: ship is 61.5 %\n",
      "Accuracy for the class: truck is 56.1 %\n"
     ]
    }
   ]
  },
  {
   "cell_type": "markdown",
   "source": [
    "- сеть № 2"
   ],
   "metadata": {}
  },
  {
   "cell_type": "code",
   "source": [
    "model = Model()\n",
    "optimizer=optim.Adam(model.parameters(), lr=0.001)\n",
    "trained_model = training(4, nn.CrossEntropyLoss(), optimizer)\n",
    "testing(trained_model)"
   ],
   "metadata": {
    "execution": {
     "iopub.status.busy": "2024-01-15T20:50:37.309115Z",
     "iopub.execute_input": "2024-01-15T20:50:37.309576Z",
     "iopub.status.idle": "2024-01-15T20:56:22.552198Z",
     "shell.execute_reply.started": "2024-01-15T20:50:37.309535Z",
     "shell.execute_reply": "2024-01-15T20:56:22.551003Z"
    },
    "trusted": true,
    "ExecuteTime": {
     "end_time": "2024-03-19T17:25:56.856128700Z",
     "start_time": "2024-03-19T17:17:57.653397300Z"
    }
   },
   "execution_count": 8,
   "outputs": [
    {
     "name": "stdout",
     "output_type": "stream",
     "text": [
      "[1,  2000] loss: 1.858\n",
      "[1,  4000] loss: 1.587\n",
      "[1,  6000] loss: 1.493\n",
      "[1,  8000] loss: 1.455\n",
      "[1, 10000] loss: 1.442\n",
      "[1, 12000] loss: 1.401\n",
      "[2,  2000] loss: 1.317\n",
      "[2,  4000] loss: 1.307\n",
      "[2,  6000] loss: 1.278\n",
      "[2,  8000] loss: 1.304\n",
      "[2, 10000] loss: 1.258\n",
      "[2, 12000] loss: 1.265\n",
      "[3,  2000] loss: 1.211\n",
      "[3,  4000] loss: 1.193\n",
      "[3,  6000] loss: 1.189\n",
      "[3,  8000] loss: 1.218\n",
      "[3, 10000] loss: 1.194\n",
      "[3, 12000] loss: 1.189\n",
      "[4,  2000] loss: 1.103\n",
      "[4,  4000] loss: 1.116\n",
      "[4,  6000] loss: 1.125\n",
      "[4,  8000] loss: 1.125\n",
      "[4, 10000] loss: 1.132\n",
      "[4, 12000] loss: 1.156\n",
      "Training Completed\n"
     ]
    },
    {
     "data": {
      "text/plain": "<Figure size 640x480 with 1 Axes>",
      "image/png": "[encoded data removed]"
     },
     "metadata": {},
     "output_type": "display_data"
    },
    {
     "name": "stdout",
     "output_type": "stream",
     "text": [
      "Target:  cat   ship  ship  plane\n",
      "Predicted:  cat   car   ship  plane\n",
      "Accuracy for the class: plane is 56.5 %\n",
      "Accuracy for the class: car is 78.6 %\n",
      "Accuracy for the class: bird is 55.6 %\n",
      "Accuracy for the class: cat is 34.1 %\n",
      "Accuracy for the class: deer is 42.6 %\n",
      "Accuracy for the class: dog is 58.6 %\n",
      "Accuracy for the class: frog is 72.5 %\n",
      "Accuracy for the class: horse is 61.9 %\n",
      "Accuracy for the class: ship is 78.6 %\n",
      "Accuracy for the class: truck is 53.4 %\n"
     ]
    }
   ]
  },
  {
   "cell_type": "code",
   "source": [
    "model = Model()\n",
    "optimizer=optim.Adam(model.parameters(), lr=0.001)\n",
    "trained_model = training(8, nn.CrossEntropyLoss(), optimizer)\n",
    "testing(trained_model)"
   ],
   "metadata": {
    "execution": {
     "iopub.status.busy": "2024-01-15T21:10:10.060377Z",
     "iopub.execute_input": "2024-01-15T21:10:10.060975Z",
     "iopub.status.idle": "2024-01-15T21:22:05.372837Z",
     "shell.execute_reply.started": "2024-01-15T21:10:10.060912Z",
     "shell.execute_reply": "2024-01-15T21:22:05.370455Z"
    },
    "trusted": true,
    "ExecuteTime": {
     "end_time": "2024-03-19T17:43:04.142175Z",
     "start_time": "2024-03-19T17:25:56.870281900Z"
    }
   },
   "execution_count": 9,
   "outputs": [
    {
     "name": "stdout",
     "output_type": "stream",
     "text": [
      "[1,  2000] loss: 1.853\n",
      "[1,  4000] loss: 1.586\n",
      "[1,  6000] loss: 1.518\n",
      "[1,  8000] loss: 1.485\n",
      "[1, 10000] loss: 1.443\n",
      "[1, 12000] loss: 1.403\n",
      "[2,  2000] loss: 1.317\n",
      "[2,  4000] loss: 1.311\n",
      "[2,  6000] loss: 1.304\n",
      "[2,  8000] loss: 1.292\n",
      "[2, 10000] loss: 1.281\n",
      "[2, 12000] loss: 1.256\n",
      "[3,  2000] loss: 1.184\n",
      "[3,  4000] loss: 1.209\n",
      "[3,  6000] loss: 1.207\n",
      "[3,  8000] loss: 1.175\n",
      "[3, 10000] loss: 1.189\n",
      "[3, 12000] loss: 1.179\n",
      "[4,  2000] loss: 1.131\n",
      "[4,  4000] loss: 1.090\n",
      "[4,  6000] loss: 1.145\n",
      "[4,  8000] loss: 1.126\n",
      "[4, 10000] loss: 1.111\n",
      "[4, 12000] loss: 1.113\n",
      "[5,  2000] loss: 1.053\n",
      "[5,  4000] loss: 1.076\n",
      "[5,  6000] loss: 1.080\n",
      "[5,  8000] loss: 1.087\n",
      "[5, 10000] loss: 1.047\n",
      "[5, 12000] loss: 1.073\n",
      "[6,  2000] loss: 1.010\n",
      "[6,  4000] loss: 1.038\n",
      "[6,  6000] loss: 1.032\n",
      "[6,  8000] loss: 1.035\n",
      "[6, 10000] loss: 1.042\n",
      "[6, 12000] loss: 1.019\n",
      "[7,  2000] loss: 0.964\n",
      "[7,  4000] loss: 0.998\n",
      "[7,  6000] loss: 1.008\n",
      "[7,  8000] loss: 1.006\n",
      "[7, 10000] loss: 1.022\n",
      "[7, 12000] loss: 1.016\n",
      "[8,  2000] loss: 0.959\n",
      "[8,  4000] loss: 0.951\n",
      "[8,  6000] loss: 0.978\n",
      "[8,  8000] loss: 0.986\n",
      "[8, 10000] loss: 1.015\n",
      "[8, 12000] loss: 0.989\n",
      "Training Completed\n"
     ]
    },
    {
     "data": {
      "text/plain": "<Figure size 640x480 with 1 Axes>",
      "image/png": "[encoded data removed]"
     },
     "metadata": {},
     "output_type": "display_data"
    },
    {
     "name": "stdout",
     "output_type": "stream",
     "text": [
      "Target:  cat   ship  ship  plane\n",
      "Predicted:  cat   ship  ship  ship \n",
      "Accuracy for the class: plane is 64.5 %\n",
      "Accuracy for the class: car is 66.9 %\n",
      "Accuracy for the class: bird is 45.5 %\n",
      "Accuracy for the class: cat is 51.0 %\n",
      "Accuracy for the class: deer is 42.8 %\n",
      "Accuracy for the class: dog is 38.6 %\n",
      "Accuracy for the class: frog is 75.8 %\n",
      "Accuracy for the class: horse is 65.5 %\n",
      "Accuracy for the class: ship is 75.8 %\n",
      "Accuracy for the class: truck is 79.6 %\n"
     ]
    }
   ]
  }
 ]
}
